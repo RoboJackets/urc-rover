{
 "cells": [
  {
   "cell_type": "code",
   "execution_count": 1,
   "id": "initial_id",
   "metadata": {
    "collapsed": true,
    "ExecuteTime": {
     "end_time": "2024-04-11T00:26:27.046923Z",
     "start_time": "2024-04-11T00:26:26.839616Z"
    }
   },
   "outputs": [],
   "source": [
    "import os\n",
    "import time\n",
    "\n",
    "import pinocchio as pin\n",
    "import numpy as np\n",
    "import scipy\n",
    "\n",
    "from ompl import base as ob\n",
    "from ompl import geometric as og"
   ]
  },
  {
   "cell_type": "code",
   "outputs": [
    {
     "name": "stdout",
     "output_type": "stream",
     "text": [
      "28\n",
      "You can open the visualizer by visiting the following URL:\n",
      "http://127.0.0.1:7000/static/\n"
     ]
    }
   ],
   "source": [
    "model, collision_model, visual_model = pin.buildModelsFromUrdf(\n",
    "    \"../model/walli_arm.urdf\",\n",
    "    package_dirs=[\n",
    "        \"/home/keseterg/Documents/Robojackets/urc_ws/src/urc_arm/model/meshes\"\n",
    "    ],\n",
    ")\n",
    "collision_model = pin.buildGeomFromUrdf(\n",
    "    model, \"../model/walli_arm.urdf\",\n",
    "    pin.GeometryType.COLLISION,\n",
    "    package_dirs=[\n",
    "        \"/home/keseterg/Documents/Robojackets/urc_ws/src/urc_arm/model/meshes\",\n",
    "    ]\n",
    ")\n",
    "collision_model.addAllCollisionPairs()\n",
    "print(f\"{len(collision_model.collisionPairs)}\")\n",
    "robot = pin.RobotWrapper(model, collision_model, visual_model, True)\n",
    "\n",
    "robot.setVisualizer(pin.visualize.MeshcatVisualizer())\n",
    "robot.initViewer()\n",
    "robot.loadViewerModel(\"pinocchio\")\n",
    "robot.display(robot.q0)\n",
    "robot.displayVisuals(True)\n",
    "robot.displayCollisions(True)"
   ],
   "metadata": {
    "collapsed": false,
    "ExecuteTime": {
     "end_time": "2024-04-11T00:26:27.975303Z",
     "start_time": "2024-04-11T00:26:27.048102Z"
    }
   },
   "id": "73e7281d7660ca3e",
   "execution_count": 2
  },
  {
   "cell_type": "code",
   "outputs": [
    {
     "data": {
      "text/plain": "True"
     },
     "execution_count": 9,
     "metadata": {},
     "output_type": "execute_result"
    }
   ],
   "source": [
    "robot.updateGeometryPlacements(robot.q0, True)\n",
    "q_test = robot.q0\n",
    "q_test[4] = 2.0\n",
    "robot.forwardKinematics(q_test)\n",
    "robot.display(q_test)\n",
    "pin.computeCollisions(\n",
    "    robot.model, robot.data,\n",
    "    robot.collision_model, robot.collision_data,\n",
    "    robot.q0, False\n",
    ")"
   ],
   "metadata": {
    "collapsed": false,
    "ExecuteTime": {
     "end_time": "2024-04-11T00:31:48.891546Z",
     "start_time": "2024-04-11T00:31:48.885874Z"
    }
   },
   "id": "45b63525c343f28d",
   "execution_count": 9
  },
  {
   "cell_type": "code",
   "outputs": [
    {
     "name": "stdout",
     "output_type": "stream",
     "text": [
      "collision pair: 0 , 1 - collision: No\n",
      "collision pair: 0 , 2 - collision: No\n",
      "collision pair: 0 , 3 - collision: No\n",
      "collision pair: 0 , 4 - collision: No\n",
      "collision pair: 0 , 5 - collision: No\n",
      "collision pair: 0 , 6 - collision: No\n",
      "collision pair: 0 , 7 - collision: No\n",
      "collision pair: 1 , 2 - collision: No\n",
      "collision pair: 1 , 3 - collision: No\n",
      "collision pair: 1 , 4 - collision: No\n",
      "collision pair: 1 , 5 - collision: No\n",
      "collision pair: 1 , 6 - collision: No\n",
      "collision pair: 1 , 7 - collision: No\n",
      "collision pair: 2 , 3 - collision: Yes\n",
      "collision pair: 2 , 4 - collision: No\n",
      "collision pair: 2 , 5 - collision: No\n",
      "collision pair: 2 , 6 - collision: No\n",
      "collision pair: 2 , 7 - collision: No\n",
      "collision pair: 3 , 4 - collision: No\n",
      "collision pair: 3 , 5 - collision: No\n",
      "collision pair: 3 , 6 - collision: No\n",
      "collision pair: 3 , 7 - collision: No\n",
      "collision pair: 4 , 5 - collision: No\n",
      "collision pair: 4 , 6 - collision: No\n",
      "collision pair: 4 , 7 - collision: No\n",
      "collision pair: 5 , 6 - collision: No\n",
      "collision pair: 5 , 7 - collision: No\n",
      "collision pair: 6 , 7 - collision: No\n"
     ]
    }
   ],
   "source": [
    "for k in range(len(robot.collision_model.collisionPairs)): \n",
    "  cr = robot.collision_data.collisionResults[k]\n",
    "  cp = robot.collision_model.collisionPairs[k]\n",
    "  print(\"collision pair:\",cp.first,\",\",cp.second,\"- collision:\",\"Yes\" if cr.isCollision() else \"No\")"
   ],
   "metadata": {
    "collapsed": false,
    "ExecuteTime": {
     "end_time": "2024-04-11T00:31:50.740101Z",
     "start_time": "2024-04-11T00:31:50.736790Z"
    }
   },
   "id": "2981e6f108c56510",
   "execution_count": 10
  },
  {
   "cell_type": "code",
   "outputs": [],
   "source": [
    "space = ob.SE3StateSpace()\n",
    "bounds = ob.RealVectorBounds(3)\n",
    "bounds.setLow(-1)\n",
    "bounds.setHigh(1)\n",
    "space.setBounds(bounds)"
   ],
   "metadata": {
    "collapsed": false,
    "ExecuteTime": {
     "end_time": "2024-04-11T00:32:51.050547Z",
     "start_time": "2024-04-11T00:32:51.048386Z"
    }
   },
   "id": "c7af0fbedd5d331d",
   "execution_count": 12
  },
  {
   "cell_type": "code",
   "outputs": [],
   "source": [
    "def is_valid(state:ob.State) -> bool:\n",
    "    pos = state[0]\n",
    "    vel = state[1]\n",
    "    return True\n",
    "space_info = ob.SpaceInformation(space)\n",
    "space_info.setStateValidityChecker(ob.StateValidityCheckerFn(is_valid))"
   ],
   "metadata": {
    "collapsed": false,
    "ExecuteTime": {
     "end_time": "2024-04-10T23:14:34.802783Z",
     "start_time": "2024-04-10T23:14:34.800766Z"
    }
   },
   "id": "420ac3ee25c774aa",
   "execution_count": 17
  },
  {
   "cell_type": "code",
   "outputs": [],
   "source": [
    "start_state = ob.State(space_info)\n",
    "start_state.random()\n",
    "goal_state = ob.State(space_info)\n",
    "goal_state.random()\n",
    "\n",
    "problem = ob.ProblemDefinition(space_info)\n",
    "problem.setStartAndGoalStates(start_state, goal_state)"
   ],
   "metadata": {
    "collapsed": false,
    "ExecuteTime": {
     "end_time": "2024-04-10T23:14:36.211537Z",
     "start_time": "2024-04-10T23:14:36.209512Z"
    }
   },
   "id": "9a59d5f715bf8e69",
   "execution_count": 18
  },
  {
   "cell_type": "code",
   "outputs": [
    {
     "name": "stdout",
     "output_type": "stream",
     "text": [
      "Info:    RRTConnect: Space information setup was not yet called. Calling now.\n",
      "Debug:   RRTConnect: Planner range detected to be 1.006980\n",
      "Info:    RRTConnect: Starting planning with 1 states already in datastructure\n",
      "Info:    RRTConnect: Created 6 states (2 start + 4 goal)\n"
     ]
    }
   ],
   "source": [
    "planner = og.RRTConnect(space_info)\n",
    "planner.setProblemDefinition(problem)\n",
    "planner.setup()\n",
    "solved = planner.solve(1.0)"
   ],
   "metadata": {
    "collapsed": false,
    "ExecuteTime": {
     "end_time": "2024-04-10T23:14:37.364969Z",
     "start_time": "2024-04-10T23:14:37.361400Z"
    }
   },
   "id": "d391b1863f4a3f1d",
   "execution_count": 19
  },
  {
   "cell_type": "code",
   "outputs": [
    {
     "name": "stdout",
     "output_type": "stream",
     "text": [
      "Exact solution\n",
      "Geometric path with 5 states\n",
      "Compound state [\n",
      "RealVectorState [-0.360901 0.26515 -0.248328]\n",
      "SO3State [-0.793012 -0.14166 -0.525166 0.274344]\n",
      "]\n",
      "Compound state [\n",
      "RealVectorState [-0.346296 0.58111 -0.243255]\n",
      "SO3State [-0.331151 0.0543523 -0.938202 0.0846326]\n",
      "]\n",
      "Compound state [\n",
      "RealVectorState [-0.249987 0.454789 -0.130016]\n",
      "SO3State [-0.295474 0.0120669 -0.955262 0.00492807]\n",
      "]\n",
      "Compound state [\n",
      "RealVectorState [0.0802967 0.0215834 0.258328]\n",
      "SO3State [-0.1537 -0.131313 -0.943091 -0.264031]\n",
      "]\n",
      "Compound state [\n",
      "RealVectorState [0.41058 -0.411622 0.646673]\n",
      "SO3State [0.00546536 -0.259835 -0.824215 -0.503116]\n",
      "]\n"
     ]
    }
   ],
   "source": [
    "print(solved)\n",
    "print(problem.getSolutionPath())"
   ],
   "metadata": {
    "collapsed": false,
    "ExecuteTime": {
     "end_time": "2024-04-10T23:15:35.135839Z",
     "start_time": "2024-04-10T23:15:35.133970Z"
    }
   },
   "id": "a5a5893c81f9d7a4",
   "execution_count": 21
  }
 ],
 "metadata": {
  "kernelspec": {
   "display_name": "Python 3",
   "language": "python",
   "name": "python3"
  },
  "language_info": {
   "codemirror_mode": {
    "name": "ipython",
    "version": 2
   },
   "file_extension": ".py",
   "mimetype": "text/x-python",
   "name": "python",
   "nbconvert_exporter": "python",
   "pygments_lexer": "ipython2",
   "version": "2.7.6"
  }
 },
 "nbformat": 4,
 "nbformat_minor": 5
}
